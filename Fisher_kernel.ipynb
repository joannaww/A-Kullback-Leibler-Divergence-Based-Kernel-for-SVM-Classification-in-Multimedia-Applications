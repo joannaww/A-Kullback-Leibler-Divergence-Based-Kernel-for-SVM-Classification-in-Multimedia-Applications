{
 "cells": [
  {
   "cell_type": "markdown",
   "id": "3fdf74c9-5889-4da2-ac6d-9ff1c5c86224",
   "metadata": {},
   "source": [
    "# SVM with Fisher kernel"
   ]
  },
  {
   "cell_type": "code",
   "execution_count": 34,
   "id": "769e4bae-2eb8-490d-9b7b-1a42437fce4e",
   "metadata": {},
   "outputs": [],
   "source": [
    "import numpy as np\n",
    "import matplotlib.pyplot as plt\n",
    "from sklearn import mixture\n",
    "from sklearn.svm import SVC\n",
    "from sklearn.model_selection import train_test_split, GridSearchCV\n",
    "from sklearn.metrics import accuracy_score, precision_score, recall_score, f1_score, roc_auc_score, roc_curve\n",
    "from sklearn.metrics import classification_report\n",
    "from tensorflow.keras.datasets import cifar10\n",
    "import pandas as pd"
   ]
  },
  {
   "cell_type": "code",
   "execution_count": 2,
   "id": "0685d521-1e1a-4717-ba39-6fd6b21f9964",
   "metadata": {},
   "outputs": [],
   "source": [
    "# Load the CIFAR-10 dataset\n",
    "(X_train, y_train), (X_test, y_test) = cifar10.load_data()"
   ]
  },
  {
   "cell_type": "code",
   "execution_count": 3,
   "id": "2af9ba7e-18ac-443c-89d5-d7f3614aa97f",
   "metadata": {},
   "outputs": [],
   "source": [
    "# Select two classes (e.g., class 0 and class 1) and take 250 samples from each\n",
    "class_0_idx = np.where(y_train == 0)[0][:250]\n",
    "class_1_idx = np.where(y_train == 1)[0][:250]"
   ]
  },
  {
   "cell_type": "code",
   "execution_count": 4,
   "id": "67e450c7-66b0-484b-8707-cf7d8c16a0a1",
   "metadata": {},
   "outputs": [],
   "source": [
    "# Concatenate the indices and select the samples\n",
    "selected_idx = np.concatenate((class_0_idx, class_1_idx))\n",
    "X_subset = X_train[selected_idx]\n",
    "y_subset = y_train[selected_idx]"
   ]
  },
  {
   "cell_type": "code",
   "execution_count": 5,
   "id": "664e67e1-3a9d-413d-97c5-0b155aecfebe",
   "metadata": {},
   "outputs": [],
   "source": [
    "# Flatten the images and normalize the pixel values\n",
    "X_subset_flat = X_subset.reshape(X_subset.shape[0], -1).astype('float32') / 255.0"
   ]
  },
  {
   "cell_type": "code",
   "execution_count": 6,
   "id": "004d3ce5-25e0-4f06-9364-18a98be6fa6b",
   "metadata": {},
   "outputs": [],
   "source": [
    "# Split the data into training and test sets (80% training, 20% test)\n",
    "X_train_subset, X_test_subset, y_train_subset, y_test_subset = train_test_split(X_subset_flat, y_subset, test_size=0.2, random_state=42)"
   ]
  },
  {
   "cell_type": "code",
   "execution_count": 30,
   "id": "0e84400d-8709-447a-ba9f-3eef7b13a754",
   "metadata": {},
   "outputs": [],
   "source": [
    "# Fisher vector and Fisher kernel\n",
    "def fisher_vector_simple(x, gmm):\n",
    "    means1 = gmm.means_[0]\n",
    "    means2 = gmm.means_[1]\n",
    "\n",
    "    cov_inv1 = np.linalg.inv(gmm.covariances_[0])\n",
    "    cov_inv2 = np.linalg.inv(gmm.covariances_[1])\n",
    "\n",
    "    score1 = 0\n",
    "    score2 = 0\n",
    "\n",
    "    for i in range(3):\n",
    "        posteriori = gmm.predict_proba(x[:,i].reshape(1, -1))\n",
    "        diff1 = cov_inv1 @ (x[:,i] - means1)\n",
    "        diff2 = cov_inv2 @ (x[:,i] - means2)\n",
    "        score1 += posteriori[0][0] * diff1\n",
    "        score2 += posteriori[0][1] * diff2\n",
    "    \n",
    "    return np.hstack((score1, score2)) \n",
    "\n",
    "def fisher_kernel_matrix_simple(X1, X2):\n",
    "    X1 = X1.reshape(X1.shape[0], 32*32, 3)\n",
    "    X2 = X2.reshape(X2.shape[0], 32*32, 3)\n",
    "\n",
    "    F1 = np.array([fisher_vector_simple(x, gmm) for x in X1])\n",
    "    F2 = np.array([fisher_vector_simple(x, gmm) for x in X2])\n",
    "    \n",
    "    gram_matrix = np.dot(F1, F2.T)\n",
    "\n",
    "    K_diag_1 = np.diag(np.dot(F1, F1.T))\n",
    "    K_diag_2 = np.diag(np.dot(F2, F2.T))\n",
    "    \n",
    "    gram_matrix_normalized =  gram_matrix / np.sqrt(np.outer(K_diag_1, K_diag_2))\n",
    "            \n",
    "    return gram_matrix_normalized"
   ]
  },
  {
   "cell_type": "code",
   "execution_count": 11,
   "id": "3df8a504-0083-4c07-a3aa-6e4c7375b7db",
   "metadata": {},
   "outputs": [
    {
     "name": "stderr",
     "output_type": "stream",
     "text": [
      "C:\\Users\\joann\\anaconda3\\Lib\\site-packages\\sklearn\\cluster\\_kmeans.py:1382: UserWarning: KMeans is known to have a memory leak on Windows with MKL, when there are less chunks than available threads. You can avoid it by setting the environment variable OMP_NUM_THREADS=5.\n",
      "  warnings.warn(\n"
     ]
    },
    {
     "data": {
      "text/html": [
       "<style>#sk-container-id-2 {color: black;background-color: white;}#sk-container-id-2 pre{padding: 0;}#sk-container-id-2 div.sk-toggleable {background-color: white;}#sk-container-id-2 label.sk-toggleable__label {cursor: pointer;display: block;width: 100%;margin-bottom: 0;padding: 0.3em;box-sizing: border-box;text-align: center;}#sk-container-id-2 label.sk-toggleable__label-arrow:before {content: \"▸\";float: left;margin-right: 0.25em;color: #696969;}#sk-container-id-2 label.sk-toggleable__label-arrow:hover:before {color: black;}#sk-container-id-2 div.sk-estimator:hover label.sk-toggleable__label-arrow:before {color: black;}#sk-container-id-2 div.sk-toggleable__content {max-height: 0;max-width: 0;overflow: hidden;text-align: left;background-color: #f0f8ff;}#sk-container-id-2 div.sk-toggleable__content pre {margin: 0.2em;color: black;border-radius: 0.25em;background-color: #f0f8ff;}#sk-container-id-2 input.sk-toggleable__control:checked~div.sk-toggleable__content {max-height: 200px;max-width: 100%;overflow: auto;}#sk-container-id-2 input.sk-toggleable__control:checked~label.sk-toggleable__label-arrow:before {content: \"▾\";}#sk-container-id-2 div.sk-estimator input.sk-toggleable__control:checked~label.sk-toggleable__label {background-color: #d4ebff;}#sk-container-id-2 div.sk-label input.sk-toggleable__control:checked~label.sk-toggleable__label {background-color: #d4ebff;}#sk-container-id-2 input.sk-hidden--visually {border: 0;clip: rect(1px 1px 1px 1px);clip: rect(1px, 1px, 1px, 1px);height: 1px;margin: -1px;overflow: hidden;padding: 0;position: absolute;width: 1px;}#sk-container-id-2 div.sk-estimator {font-family: monospace;background-color: #f0f8ff;border: 1px dotted black;border-radius: 0.25em;box-sizing: border-box;margin-bottom: 0.5em;}#sk-container-id-2 div.sk-estimator:hover {background-color: #d4ebff;}#sk-container-id-2 div.sk-parallel-item::after {content: \"\";width: 100%;border-bottom: 1px solid gray;flex-grow: 1;}#sk-container-id-2 div.sk-label:hover label.sk-toggleable__label {background-color: #d4ebff;}#sk-container-id-2 div.sk-serial::before {content: \"\";position: absolute;border-left: 1px solid gray;box-sizing: border-box;top: 0;bottom: 0;left: 50%;z-index: 0;}#sk-container-id-2 div.sk-serial {display: flex;flex-direction: column;align-items: center;background-color: white;padding-right: 0.2em;padding-left: 0.2em;position: relative;}#sk-container-id-2 div.sk-item {position: relative;z-index: 1;}#sk-container-id-2 div.sk-parallel {display: flex;align-items: stretch;justify-content: center;background-color: white;position: relative;}#sk-container-id-2 div.sk-item::before, #sk-container-id-2 div.sk-parallel-item::before {content: \"\";position: absolute;border-left: 1px solid gray;box-sizing: border-box;top: 0;bottom: 0;left: 50%;z-index: -1;}#sk-container-id-2 div.sk-parallel-item {display: flex;flex-direction: column;z-index: 1;position: relative;background-color: white;}#sk-container-id-2 div.sk-parallel-item:first-child::after {align-self: flex-end;width: 50%;}#sk-container-id-2 div.sk-parallel-item:last-child::after {align-self: flex-start;width: 50%;}#sk-container-id-2 div.sk-parallel-item:only-child::after {width: 0;}#sk-container-id-2 div.sk-dashed-wrapped {border: 1px dashed gray;margin: 0 0.4em 0.5em 0.4em;box-sizing: border-box;padding-bottom: 0.4em;background-color: white;}#sk-container-id-2 div.sk-label label {font-family: monospace;font-weight: bold;display: inline-block;line-height: 1.2em;}#sk-container-id-2 div.sk-label-container {text-align: center;}#sk-container-id-2 div.sk-container {/* jupyter's `normalize.less` sets `[hidden] { display: none; }` but bootstrap.min.css set `[hidden] { display: none !important; }` so we also need the `!important` here to be able to override the default hidden behavior on the sphinx rendered scikit-learn.org. See: https://github.com/scikit-learn/scikit-learn/issues/21755 */display: inline-block !important;position: relative;}#sk-container-id-2 div.sk-text-repr-fallback {display: none;}</style><div id=\"sk-container-id-2\" class=\"sk-top-container\"><div class=\"sk-text-repr-fallback\"><pre>GaussianMixture(n_components=2, random_state=42)</pre><b>In a Jupyter environment, please rerun this cell to show the HTML representation or trust the notebook. <br />On GitHub, the HTML representation is unable to render, please try loading this page with nbviewer.org.</b></div><div class=\"sk-container\" hidden><div class=\"sk-item\"><div class=\"sk-estimator sk-toggleable\"><input class=\"sk-toggleable__control sk-hidden--visually\" id=\"sk-estimator-id-2\" type=\"checkbox\" checked><label for=\"sk-estimator-id-2\" class=\"sk-toggleable__label sk-toggleable__label-arrow\">GaussianMixture</label><div class=\"sk-toggleable__content\"><pre>GaussianMixture(n_components=2, random_state=42)</pre></div></div></div></div></div>"
      ],
      "text/plain": [
       "GaussianMixture(n_components=2, random_state=42)"
      ]
     },
     "execution_count": 11,
     "metadata": {},
     "output_type": "execute_result"
    }
   ],
   "source": [
    "# Train a GMM on the training data\n",
    "gmm = mixture.GaussianMixture(n_components=2, covariance_type='full', random_state=42)\n",
    "gmm.fit(X_train_subset.reshape(1200, 1024))"
   ]
  },
  {
   "cell_type": "code",
   "execution_count": 31,
   "id": "a39f52ac-88fb-4a8c-8a02-f89737324726",
   "metadata": {},
   "outputs": [
    {
     "name": "stdout",
     "output_type": "stream",
     "text": [
      "Fitting 5 folds for each of 8 candidates, totalling 40 fits\n",
      "[CV] END ............................................C=0.005; total time= 6.9min\n",
      "[CV] END ............................................C=0.005; total time= 7.0min\n",
      "[CV] END ............................................C=0.005; total time= 7.0min\n",
      "[CV] END ............................................C=0.005; total time= 6.7min\n",
      "[CV] END ............................................C=0.005; total time= 7.0min\n",
      "[CV] END .............................................C=0.01; total time= 7.1min\n",
      "[CV] END .............................................C=0.01; total time= 7.0min\n",
      "[CV] END .............................................C=0.01; total time= 7.2min\n",
      "[CV] END .............................................C=0.01; total time= 7.2min\n",
      "[CV] END .............................................C=0.01; total time= 7.0min\n",
      "[CV] END .............................................C=0.05; total time= 6.7min\n",
      "[CV] END .............................................C=0.05; total time= 6.7min\n",
      "[CV] END .............................................C=0.05; total time= 6.6min\n",
      "[CV] END .............................................C=0.05; total time= 6.6min\n",
      "[CV] END .............................................C=0.05; total time= 6.7min\n",
      "[CV] END ..............................................C=0.1; total time= 6.3min\n",
      "[CV] END ..............................................C=0.1; total time= 6.2min\n",
      "[CV] END ..............................................C=0.1; total time= 6.2min\n",
      "[CV] END ..............................................C=0.1; total time= 6.2min\n",
      "[CV] END ..............................................C=0.1; total time= 6.2min\n",
      "[CV] END ..............................................C=0.5; total time= 6.2min\n",
      "[CV] END ..............................................C=0.5; total time= 6.1min\n",
      "[CV] END ..............................................C=0.5; total time= 7.0min\n",
      "[CV] END ..............................................C=0.5; total time= 6.5min\n",
      "[CV] END ..............................................C=0.5; total time= 6.7min\n",
      "[CV] END ................................................C=1; total time= 6.9min\n",
      "[CV] END ................................................C=1; total time= 6.8min\n",
      "[CV] END ................................................C=1; total time= 6.7min\n",
      "[CV] END ................................................C=1; total time= 6.4min\n",
      "[CV] END ................................................C=1; total time= 6.0min\n",
      "[CV] END ................................................C=5; total time= 6.3min\n",
      "[CV] END ................................................C=5; total time= 6.3min\n",
      "[CV] END ................................................C=5; total time= 6.2min\n",
      "[CV] END ................................................C=5; total time= 6.3min\n",
      "[CV] END ................................................C=5; total time= 6.3min\n",
      "[CV] END ...............................................C=10; total time= 6.3min\n",
      "[CV] END ...............................................C=10; total time= 6.3min\n",
      "[CV] END ...............................................C=10; total time= 6.3min\n",
      "[CV] END ...............................................C=10; total time= 6.5min\n",
      "[CV] END ...............................................C=10; total time= 6.4min\n"
     ]
    },
    {
     "data": {
      "text/html": [
       "<style>#sk-container-id-3 {color: black;background-color: white;}#sk-container-id-3 pre{padding: 0;}#sk-container-id-3 div.sk-toggleable {background-color: white;}#sk-container-id-3 label.sk-toggleable__label {cursor: pointer;display: block;width: 100%;margin-bottom: 0;padding: 0.3em;box-sizing: border-box;text-align: center;}#sk-container-id-3 label.sk-toggleable__label-arrow:before {content: \"▸\";float: left;margin-right: 0.25em;color: #696969;}#sk-container-id-3 label.sk-toggleable__label-arrow:hover:before {color: black;}#sk-container-id-3 div.sk-estimator:hover label.sk-toggleable__label-arrow:before {color: black;}#sk-container-id-3 div.sk-toggleable__content {max-height: 0;max-width: 0;overflow: hidden;text-align: left;background-color: #f0f8ff;}#sk-container-id-3 div.sk-toggleable__content pre {margin: 0.2em;color: black;border-radius: 0.25em;background-color: #f0f8ff;}#sk-container-id-3 input.sk-toggleable__control:checked~div.sk-toggleable__content {max-height: 200px;max-width: 100%;overflow: auto;}#sk-container-id-3 input.sk-toggleable__control:checked~label.sk-toggleable__label-arrow:before {content: \"▾\";}#sk-container-id-3 div.sk-estimator input.sk-toggleable__control:checked~label.sk-toggleable__label {background-color: #d4ebff;}#sk-container-id-3 div.sk-label input.sk-toggleable__control:checked~label.sk-toggleable__label {background-color: #d4ebff;}#sk-container-id-3 input.sk-hidden--visually {border: 0;clip: rect(1px 1px 1px 1px);clip: rect(1px, 1px, 1px, 1px);height: 1px;margin: -1px;overflow: hidden;padding: 0;position: absolute;width: 1px;}#sk-container-id-3 div.sk-estimator {font-family: monospace;background-color: #f0f8ff;border: 1px dotted black;border-radius: 0.25em;box-sizing: border-box;margin-bottom: 0.5em;}#sk-container-id-3 div.sk-estimator:hover {background-color: #d4ebff;}#sk-container-id-3 div.sk-parallel-item::after {content: \"\";width: 100%;border-bottom: 1px solid gray;flex-grow: 1;}#sk-container-id-3 div.sk-label:hover label.sk-toggleable__label {background-color: #d4ebff;}#sk-container-id-3 div.sk-serial::before {content: \"\";position: absolute;border-left: 1px solid gray;box-sizing: border-box;top: 0;bottom: 0;left: 50%;z-index: 0;}#sk-container-id-3 div.sk-serial {display: flex;flex-direction: column;align-items: center;background-color: white;padding-right: 0.2em;padding-left: 0.2em;position: relative;}#sk-container-id-3 div.sk-item {position: relative;z-index: 1;}#sk-container-id-3 div.sk-parallel {display: flex;align-items: stretch;justify-content: center;background-color: white;position: relative;}#sk-container-id-3 div.sk-item::before, #sk-container-id-3 div.sk-parallel-item::before {content: \"\";position: absolute;border-left: 1px solid gray;box-sizing: border-box;top: 0;bottom: 0;left: 50%;z-index: -1;}#sk-container-id-3 div.sk-parallel-item {display: flex;flex-direction: column;z-index: 1;position: relative;background-color: white;}#sk-container-id-3 div.sk-parallel-item:first-child::after {align-self: flex-end;width: 50%;}#sk-container-id-3 div.sk-parallel-item:last-child::after {align-self: flex-start;width: 50%;}#sk-container-id-3 div.sk-parallel-item:only-child::after {width: 0;}#sk-container-id-3 div.sk-dashed-wrapped {border: 1px dashed gray;margin: 0 0.4em 0.5em 0.4em;box-sizing: border-box;padding-bottom: 0.4em;background-color: white;}#sk-container-id-3 div.sk-label label {font-family: monospace;font-weight: bold;display: inline-block;line-height: 1.2em;}#sk-container-id-3 div.sk-label-container {text-align: center;}#sk-container-id-3 div.sk-container {/* jupyter's `normalize.less` sets `[hidden] { display: none; }` but bootstrap.min.css set `[hidden] { display: none !important; }` so we also need the `!important` here to be able to override the default hidden behavior on the sphinx rendered scikit-learn.org. See: https://github.com/scikit-learn/scikit-learn/issues/21755 */display: inline-block !important;position: relative;}#sk-container-id-3 div.sk-text-repr-fallback {display: none;}</style><div id=\"sk-container-id-3\" class=\"sk-top-container\"><div class=\"sk-text-repr-fallback\"><pre>GridSearchCV(cv=5, estimator=CustomSVCFisher_v2(),\n",
       "             param_grid={&#x27;C&#x27;: [0.005, 0.01, 0.05, 0.1, 0.5, 1, 5, 10]},\n",
       "             verbose=2)</pre><b>In a Jupyter environment, please rerun this cell to show the HTML representation or trust the notebook. <br />On GitHub, the HTML representation is unable to render, please try loading this page with nbviewer.org.</b></div><div class=\"sk-container\" hidden><div class=\"sk-item sk-dashed-wrapped\"><div class=\"sk-label-container\"><div class=\"sk-label sk-toggleable\"><input class=\"sk-toggleable__control sk-hidden--visually\" id=\"sk-estimator-id-3\" type=\"checkbox\" ><label for=\"sk-estimator-id-3\" class=\"sk-toggleable__label sk-toggleable__label-arrow\">GridSearchCV</label><div class=\"sk-toggleable__content\"><pre>GridSearchCV(cv=5, estimator=CustomSVCFisher_v2(),\n",
       "             param_grid={&#x27;C&#x27;: [0.005, 0.01, 0.05, 0.1, 0.5, 1, 5, 10]},\n",
       "             verbose=2)</pre></div></div></div><div class=\"sk-parallel\"><div class=\"sk-parallel-item\"><div class=\"sk-item\"><div class=\"sk-label-container\"><div class=\"sk-label sk-toggleable\"><input class=\"sk-toggleable__control sk-hidden--visually\" id=\"sk-estimator-id-4\" type=\"checkbox\" ><label for=\"sk-estimator-id-4\" class=\"sk-toggleable__label sk-toggleable__label-arrow\">estimator: CustomSVCFisher_v2</label><div class=\"sk-toggleable__content\"><pre>CustomSVCFisher_v2()</pre></div></div></div><div class=\"sk-serial\"><div class=\"sk-item\"><div class=\"sk-estimator sk-toggleable\"><input class=\"sk-toggleable__control sk-hidden--visually\" id=\"sk-estimator-id-5\" type=\"checkbox\" ><label for=\"sk-estimator-id-5\" class=\"sk-toggleable__label sk-toggleable__label-arrow\">CustomSVCFisher_v2</label><div class=\"sk-toggleable__content\"><pre>CustomSVCFisher_v2()</pre></div></div></div></div></div></div></div></div></div></div>"
      ],
      "text/plain": [
       "GridSearchCV(cv=5, estimator=CustomSVCFisher_v2(),\n",
       "             param_grid={'C': [0.005, 0.01, 0.05, 0.1, 0.5, 1, 5, 10]},\n",
       "             verbose=2)"
      ]
     },
     "execution_count": 31,
     "metadata": {},
     "output_type": "execute_result"
    }
   ],
   "source": [
    "# Custom SVC class to use the KL kernel with parameter A\n",
    "class CustomSVCFisher_v2(SVC):\n",
    "    def __init__(self, C=5, **kwargs):\n",
    "        super().__init__(C=C, probability=True, **kwargs)\n",
    "    \n",
    "    def fit(self, X, y):\n",
    "        y = y.ravel()\n",
    "        self._X_fit = X\n",
    "        self._gram_matrix_fit = fisher_kernel_matrix_simple(X, X)\n",
    "        return super().fit(self._gram_matrix_fit, y)\n",
    "    \n",
    "    def predict(self, X):\n",
    "        gram_matrix_test = fisher_kernel_matrix_simple(X, self._X_fit)\n",
    "        return super().predict(gram_matrix_test)\n",
    "    \n",
    "    def predict_proba(self, X):\n",
    "        gram_matrix_test = fisher_kernel_matrix_simple(X, self._X_fit)\n",
    "        return super().predict_proba(gram_matrix_test)\n",
    "\n",
    "# Parameter grid for GridSearchCV\n",
    "param_grid_Fv2 = {'C': [0.005, 0.01, 0.05, 0.1, 0.5, 1, 5, 10]}  # Regularization parameter for SVC\n",
    "\n",
    "# Initialize GridSearchCV with custom SVC\n",
    "grid_search_Fv2 = GridSearchCV(CustomSVCFisher_v2(kernel='precomputed'), param_grid_Fv2, refit=True, verbose=2, cv=5)\n",
    "\n",
    "# Fit GridSearchCV\n",
    "grid_search_Fv2.fit(X_train_subset, y_train_subset)"
   ]
  },
  {
   "cell_type": "code",
   "execution_count": 32,
   "id": "024f6822-c0bd-4889-965e-f0b910d930d9",
   "metadata": {},
   "outputs": [
    {
     "name": "stdout",
     "output_type": "stream",
     "text": [
      "Best parameters found:  {'C': 5}\n",
      "Accuracy: 0.67\n",
      "Precision: 0.6768430574400723\n",
      "Recall: 0.6574074074074074\n",
      "F1 Score: 0.6547756041426928\n",
      "ROC AUC: 0.7097423510466989\n"
     ]
    },
    {
     "data": {
      "image/png": "[encoded data removed]",
      "text/plain": [
       "<Figure size 640x480 with 1 Axes>"
      ]
     },
     "metadata": {},
     "output_type": "display_data"
    }
   ],
   "source": [
    "# Get the best parameters\n",
    "best_params = grid_search_Fv2.best_params_\n",
    "print(\"Best parameters found: \", best_params)\n",
    "\n",
    "# Evaluate the best model\n",
    "best_model = grid_search_Fv2.best_estimator_\n",
    "y_pred = best_model.predict(X_test_subset)\n",
    "y_pred_proba = best_model.predict_proba(X_test_subset) if hasattr(best_model, \"predict_proba\") else None\n",
    "\n",
    "# Calculate metrics\n",
    "accuracy = accuracy_score(y_test_subset, y_pred)\n",
    "precision = precision_score(y_test_subset, y_pred, average='macro')\n",
    "recall = recall_score(y_test_subset, y_pred, average='macro')\n",
    "f1 = f1_score(y_test_subset, y_pred, average='macro')\n",
    "roc_auc = roc_auc_score(y_test_subset, y_pred_proba[:, 1]) if y_pred_proba is not None else \"Not Applicable\"\n",
    "\n",
    "# Print metrics\n",
    "print(f\"Accuracy: {accuracy}\")\n",
    "print(f\"Precision: {precision}\")\n",
    "print(f\"Recall: {recall}\")\n",
    "print(f\"F1 Score: {f1}\")\n",
    "print(f\"ROC AUC: {roc_auc}\")\n",
    "\n",
    "# Plot ROC curve if probabilities are available\n",
    "if y_pred_proba is not None:\n",
    "    positive_class_probabilities = y_pred_proba[:, 1]\n",
    "    fpr, tpr, _ = roc_curve(y_test_subset.ravel(), positive_class_probabilities)\n",
    "    plt.plot(fpr, tpr, lw=2, color='#4c5454')\n",
    "    plt.plot(fpr, tpr, lw=2)\n",
    "    plt.plot([0, 1], [0, 1], color='navy', lw=2, linestyle='--')\n",
    "    plt.xlim([0.0, 1.0])\n",
    "    plt.ylim([0.0, 1.05])\n",
    "    plt.xlabel('False Positive Rate', color='#74901d')\n",
    "    plt.ylabel('True Positive Rate', color='#74901d')\n",
    "    plt.title('ROC Curve for Best Model', color='#74901d')\n",
    "    plt.tick_params(colors='#74901d')\n",
    "    plt.show()"
   ]
  },
  {
   "cell_type": "code",
   "execution_count": 35,
   "id": "4ca60cbf-2ac3-44dc-a6a1-49d42aceca83",
   "metadata": {},
   "outputs": [
    {
     "data": {
      "text/plain": [
       "'              precision    recall  f1-score   support\\n\\n           0       0.70      0.50      0.58        46\\n           1       0.66      0.81      0.73        54\\n\\n    accuracy                           0.67       100\\n   macro avg       0.68      0.66      0.65       100\\nweighted avg       0.68      0.67      0.66       100\\n'"
      ]
     },
     "execution_count": 35,
     "metadata": {},
     "output_type": "execute_result"
    }
   ],
   "source": [
    "classification_report(y_test_subset, y_pred)"
   ]
  },
  {
   "cell_type": "code",
   "execution_count": null,
   "id": "6e44ee35-e483-4750-ae32-5980455ccadc",
   "metadata": {},
   "outputs": [],
   "source": []
  }
 ],
 "metadata": {
  "kernelspec": {
   "display_name": "Python 3 (ipykernel)",
   "language": "python",
   "name": "python3"
  },
  "language_info": {
   "codemirror_mode": {
    "name": "ipython",
    "version": 3
   },
   "file_extension": ".py",
   "mimetype": "text/x-python",
   "name": "python",
   "nbconvert_exporter": "python",
   "pygments_lexer": "ipython3",
   "version": "3.11.7"
  }
 },
 "nbformat": 4,
 "nbformat_minor": 5
}
